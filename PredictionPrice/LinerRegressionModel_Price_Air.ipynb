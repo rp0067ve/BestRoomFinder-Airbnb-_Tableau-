{
 "cells": [
  {
   "cell_type": "code",
   "execution_count": 1,
   "metadata": {},
   "outputs": [],
   "source": [
    "# Import library\n",
    "import pandas as pd\n",
    "import numpy as np\n",
    "\n",
    "# Module for visualization\n",
    "import matplotlib.pyplot as plt\n",
    "%matplotlib inline\n",
    "import seaborn as sns\n",
    "\n",
    "# To avoid unnecessary warning messages.\n",
    "import warnings\n",
    "warnings.filterwarnings('ignore')\n",
    "\n",
    "\n",
    "# Built-in datasets\n",
    "from sklearn.datasets import load_breast_cancer\n",
    "\n",
    "# Create standardized data\n",
    "from sklearn.preprocessing import StandardScaler\n",
    "\n",
    "# Module for logistic regression model\n",
    "from sklearn.linear_model import LogisticRegression"
   ]
  },
  {
   "cell_type": "code",
   "execution_count": 2,
   "metadata": {},
   "outputs": [],
   "source": [
    "import sklearn\n",
    "from sklearn.model_selection import train_test_split\n",
    "from sklearn.model_selection import GridSearchCV\n",
    "from sklearn.preprocessing import LabelEncoder\n",
    "from sklearn.ensemble import RandomForestClassifier\n",
    "\n",
    "sns.set(style='white', context='notebook', palette='deep')"
   ]
  },
  {
   "cell_type": "code",
   "execution_count": null,
   "metadata": {},
   "outputs": [],
   "source": []
  },
  {
   "cell_type": "markdown",
   "metadata": {},
   "source": [
    "# all togetther"
   ]
  },
  {
   "cell_type": "code",
   "execution_count": 3,
   "metadata": {},
   "outputs": [],
   "source": [
    "df = pd.read_csv('Aemf1.csv')"
   ]
  },
  {
   "cell_type": "code",
   "execution_count": 5,
   "metadata": {},
   "outputs": [
    {
     "data": {
      "text/html": [
       "<div>\n",
       "<style scoped>\n",
       "    .dataframe tbody tr th:only-of-type {\n",
       "        vertical-align: middle;\n",
       "    }\n",
       "\n",
       "    .dataframe tbody tr th {\n",
       "        vertical-align: top;\n",
       "    }\n",
       "\n",
       "    .dataframe thead th {\n",
       "        text-align: right;\n",
       "    }\n",
       "</style>\n",
       "<table border=\"1\" class=\"dataframe\">\n",
       "  <thead>\n",
       "    <tr style=\"text-align: right;\">\n",
       "      <th></th>\n",
       "      <th>ID</th>\n",
       "      <th>City</th>\n",
       "      <th>Price</th>\n",
       "      <th>Day</th>\n",
       "      <th>Room Type</th>\n",
       "      <th>Shared Room</th>\n",
       "      <th>Private Room</th>\n",
       "      <th>Person Capacity</th>\n",
       "      <th>Superhost</th>\n",
       "      <th>Multiple Rooms</th>\n",
       "      <th>Business</th>\n",
       "      <th>Cleanliness Rating</th>\n",
       "      <th>Guest Satisfaction</th>\n",
       "      <th>Bedrooms</th>\n",
       "      <th>City Center (km)</th>\n",
       "      <th>Metro Distance (km)</th>\n",
       "      <th>Attraction Index</th>\n",
       "      <th>Normalised Attraction Index</th>\n",
       "      <th>Restraunt Index</th>\n",
       "      <th>Normalised Restraunt Index</th>\n",
       "    </tr>\n",
       "  </thead>\n",
       "  <tbody>\n",
       "    <tr>\n",
       "      <th>0</th>\n",
       "      <td>1</td>\n",
       "      <td>Amsterdam</td>\n",
       "      <td>194.033698</td>\n",
       "      <td>Weekday</td>\n",
       "      <td>Private room</td>\n",
       "      <td>False</td>\n",
       "      <td>True</td>\n",
       "      <td>2</td>\n",
       "      <td>False</td>\n",
       "      <td>1</td>\n",
       "      <td>0</td>\n",
       "      <td>10</td>\n",
       "      <td>93</td>\n",
       "      <td>1</td>\n",
       "      <td>5.022964</td>\n",
       "      <td>2.539380</td>\n",
       "      <td>78.690379</td>\n",
       "      <td>4.166708</td>\n",
       "      <td>98.253896</td>\n",
       "      <td>6.846473</td>\n",
       "    </tr>\n",
       "    <tr>\n",
       "      <th>1</th>\n",
       "      <td>2</td>\n",
       "      <td>Amsterdam</td>\n",
       "      <td>344.245776</td>\n",
       "      <td>Weekday</td>\n",
       "      <td>Private room</td>\n",
       "      <td>False</td>\n",
       "      <td>True</td>\n",
       "      <td>4</td>\n",
       "      <td>False</td>\n",
       "      <td>0</td>\n",
       "      <td>0</td>\n",
       "      <td>8</td>\n",
       "      <td>85</td>\n",
       "      <td>1</td>\n",
       "      <td>0.488389</td>\n",
       "      <td>0.239404</td>\n",
       "      <td>631.176378</td>\n",
       "      <td>33.421209</td>\n",
       "      <td>837.280757</td>\n",
       "      <td>58.342928</td>\n",
       "    </tr>\n",
       "    <tr>\n",
       "      <th>2</th>\n",
       "      <td>3</td>\n",
       "      <td>Amsterdam</td>\n",
       "      <td>264.101422</td>\n",
       "      <td>Weekday</td>\n",
       "      <td>Private room</td>\n",
       "      <td>False</td>\n",
       "      <td>True</td>\n",
       "      <td>2</td>\n",
       "      <td>False</td>\n",
       "      <td>0</td>\n",
       "      <td>1</td>\n",
       "      <td>9</td>\n",
       "      <td>87</td>\n",
       "      <td>1</td>\n",
       "      <td>5.748312</td>\n",
       "      <td>3.651621</td>\n",
       "      <td>75.275877</td>\n",
       "      <td>3.985908</td>\n",
       "      <td>95.386955</td>\n",
       "      <td>6.646700</td>\n",
       "    </tr>\n",
       "    <tr>\n",
       "      <th>3</th>\n",
       "      <td>4</td>\n",
       "      <td>Amsterdam</td>\n",
       "      <td>433.529398</td>\n",
       "      <td>Weekday</td>\n",
       "      <td>Private room</td>\n",
       "      <td>False</td>\n",
       "      <td>True</td>\n",
       "      <td>4</td>\n",
       "      <td>False</td>\n",
       "      <td>0</td>\n",
       "      <td>1</td>\n",
       "      <td>9</td>\n",
       "      <td>90</td>\n",
       "      <td>2</td>\n",
       "      <td>0.384862</td>\n",
       "      <td>0.439876</td>\n",
       "      <td>493.272534</td>\n",
       "      <td>26.119108</td>\n",
       "      <td>875.033098</td>\n",
       "      <td>60.973565</td>\n",
       "    </tr>\n",
       "    <tr>\n",
       "      <th>4</th>\n",
       "      <td>5</td>\n",
       "      <td>Amsterdam</td>\n",
       "      <td>485.552926</td>\n",
       "      <td>Weekday</td>\n",
       "      <td>Private room</td>\n",
       "      <td>False</td>\n",
       "      <td>True</td>\n",
       "      <td>2</td>\n",
       "      <td>True</td>\n",
       "      <td>0</td>\n",
       "      <td>0</td>\n",
       "      <td>10</td>\n",
       "      <td>98</td>\n",
       "      <td>1</td>\n",
       "      <td>0.544738</td>\n",
       "      <td>0.318693</td>\n",
       "      <td>552.830324</td>\n",
       "      <td>29.272733</td>\n",
       "      <td>815.305740</td>\n",
       "      <td>56.811677</td>\n",
       "    </tr>\n",
       "  </tbody>\n",
       "</table>\n",
       "</div>"
      ],
      "text/plain": [
       "   ID       City       Price      Day     Room Type  Shared Room  \\\n",
       "0   1  Amsterdam  194.033698  Weekday  Private room        False   \n",
       "1   2  Amsterdam  344.245776  Weekday  Private room        False   \n",
       "2   3  Amsterdam  264.101422  Weekday  Private room        False   \n",
       "3   4  Amsterdam  433.529398  Weekday  Private room        False   \n",
       "4   5  Amsterdam  485.552926  Weekday  Private room        False   \n",
       "\n",
       "   Private Room  Person Capacity  Superhost  Multiple Rooms  Business  \\\n",
       "0          True                2      False               1         0   \n",
       "1          True                4      False               0         0   \n",
       "2          True                2      False               0         1   \n",
       "3          True                4      False               0         1   \n",
       "4          True                2       True               0         0   \n",
       "\n",
       "   Cleanliness Rating  Guest Satisfaction  Bedrooms  City Center (km)  \\\n",
       "0                  10                  93         1          5.022964   \n",
       "1                   8                  85         1          0.488389   \n",
       "2                   9                  87         1          5.748312   \n",
       "3                   9                  90         2          0.384862   \n",
       "4                  10                  98         1          0.544738   \n",
       "\n",
       "   Metro Distance (km)  Attraction Index  Normalised Attraction Index  \\\n",
       "0             2.539380         78.690379                     4.166708   \n",
       "1             0.239404        631.176378                    33.421209   \n",
       "2             3.651621         75.275877                     3.985908   \n",
       "3             0.439876        493.272534                    26.119108   \n",
       "4             0.318693        552.830324                    29.272733   \n",
       "\n",
       "   Restraunt Index  Normalised Restraunt Index  \n",
       "0        98.253896                    6.846473  \n",
       "1       837.280757                   58.342928  \n",
       "2        95.386955                    6.646700  \n",
       "3       875.033098                   60.973565  \n",
       "4       815.305740                   56.811677  "
      ]
     },
     "execution_count": 5,
     "metadata": {},
     "output_type": "execute_result"
    }
   ],
   "source": [
    "df.head()"
   ]
  },
  {
   "cell_type": "code",
   "execution_count": 6,
   "metadata": {},
   "outputs": [
    {
     "name": "stdout",
     "output_type": "stream",
     "text": [
      "<class 'pandas.core.frame.DataFrame'>\n",
      "RangeIndex: 41714 entries, 0 to 41713\n",
      "Data columns (total 20 columns):\n",
      " #   Column                       Non-Null Count  Dtype  \n",
      "---  ------                       --------------  -----  \n",
      " 0   ID                           41714 non-null  int64  \n",
      " 1   City                         41714 non-null  object \n",
      " 2   Price                        41714 non-null  float64\n",
      " 3   Day                          41714 non-null  object \n",
      " 4   Room Type                    41714 non-null  object \n",
      " 5   Shared Room                  41714 non-null  bool   \n",
      " 6   Private Room                 41714 non-null  bool   \n",
      " 7   Person Capacity              41714 non-null  int64  \n",
      " 8   Superhost                    41714 non-null  bool   \n",
      " 9   Multiple Rooms               41714 non-null  int64  \n",
      " 10  Business                     41714 non-null  int64  \n",
      " 11  Cleanliness Rating           41714 non-null  int64  \n",
      " 12  Guest Satisfaction           41714 non-null  int64  \n",
      " 13  Bedrooms                     41714 non-null  int64  \n",
      " 14  City Center (km)             41714 non-null  float64\n",
      " 15  Metro Distance (km)          41714 non-null  float64\n",
      " 16  Attraction Index             41714 non-null  float64\n",
      " 17  Normalised Attraction Index  41714 non-null  float64\n",
      " 18  Restraunt Index              41714 non-null  float64\n",
      " 19  Normalised Restraunt Index   41714 non-null  float64\n",
      "dtypes: bool(3), float64(7), int64(7), object(3)\n",
      "memory usage: 5.5+ MB\n"
     ]
    }
   ],
   "source": [
    "df.info()"
   ]
  },
  {
   "cell_type": "code",
   "execution_count": 7,
   "metadata": {},
   "outputs": [],
   "source": [
    "#Remove unnecessary columns\n",
    "df = df.drop('ID', axis=1)\n",
    "df = df.drop('City', axis=1)\n",
    "df = df.drop('Shared Room', axis=1)\n",
    "df = df.drop('Private Room', axis=1)\n",
    "df = df.drop('Multiple Rooms', axis=1)\n",
    "df = df.drop('Business', axis=1)\n",
    "df = df.drop('Attraction Index', axis=1)\n",
    "df = df.drop('Restraunt Index', axis=1)"
   ]
  },
  {
   "cell_type": "code",
   "execution_count": 9,
   "metadata": {},
   "outputs": [
    {
     "data": {
      "text/html": [
       "<div>\n",
       "<style scoped>\n",
       "    .dataframe tbody tr th:only-of-type {\n",
       "        vertical-align: middle;\n",
       "    }\n",
       "\n",
       "    .dataframe tbody tr th {\n",
       "        vertical-align: top;\n",
       "    }\n",
       "\n",
       "    .dataframe thead th {\n",
       "        text-align: right;\n",
       "    }\n",
       "</style>\n",
       "<table border=\"1\" class=\"dataframe\">\n",
       "  <thead>\n",
       "    <tr style=\"text-align: right;\">\n",
       "      <th></th>\n",
       "      <th>Price</th>\n",
       "      <th>Person Capacity</th>\n",
       "      <th>Superhost</th>\n",
       "      <th>Cleanliness Rating</th>\n",
       "      <th>Guest Satisfaction</th>\n",
       "      <th>Bedrooms</th>\n",
       "      <th>City Center (km)</th>\n",
       "      <th>Metro Distance (km)</th>\n",
       "      <th>Normalised Attraction Index</th>\n",
       "      <th>Normalised Restraunt Index</th>\n",
       "      <th>Day_Weekend</th>\n",
       "      <th>Room Type_Private room</th>\n",
       "      <th>Room Type_Shared room</th>\n",
       "    </tr>\n",
       "  </thead>\n",
       "  <tbody>\n",
       "    <tr>\n",
       "      <th>0</th>\n",
       "      <td>194.033698</td>\n",
       "      <td>2</td>\n",
       "      <td>False</td>\n",
       "      <td>10</td>\n",
       "      <td>93</td>\n",
       "      <td>1</td>\n",
       "      <td>5.022964</td>\n",
       "      <td>2.539380</td>\n",
       "      <td>4.166708</td>\n",
       "      <td>6.846473</td>\n",
       "      <td>0</td>\n",
       "      <td>1</td>\n",
       "      <td>0</td>\n",
       "    </tr>\n",
       "    <tr>\n",
       "      <th>1</th>\n",
       "      <td>344.245776</td>\n",
       "      <td>4</td>\n",
       "      <td>False</td>\n",
       "      <td>8</td>\n",
       "      <td>85</td>\n",
       "      <td>1</td>\n",
       "      <td>0.488389</td>\n",
       "      <td>0.239404</td>\n",
       "      <td>33.421209</td>\n",
       "      <td>58.342928</td>\n",
       "      <td>0</td>\n",
       "      <td>1</td>\n",
       "      <td>0</td>\n",
       "    </tr>\n",
       "    <tr>\n",
       "      <th>2</th>\n",
       "      <td>264.101422</td>\n",
       "      <td>2</td>\n",
       "      <td>False</td>\n",
       "      <td>9</td>\n",
       "      <td>87</td>\n",
       "      <td>1</td>\n",
       "      <td>5.748312</td>\n",
       "      <td>3.651621</td>\n",
       "      <td>3.985908</td>\n",
       "      <td>6.646700</td>\n",
       "      <td>0</td>\n",
       "      <td>1</td>\n",
       "      <td>0</td>\n",
       "    </tr>\n",
       "    <tr>\n",
       "      <th>3</th>\n",
       "      <td>433.529398</td>\n",
       "      <td>4</td>\n",
       "      <td>False</td>\n",
       "      <td>9</td>\n",
       "      <td>90</td>\n",
       "      <td>2</td>\n",
       "      <td>0.384862</td>\n",
       "      <td>0.439876</td>\n",
       "      <td>26.119108</td>\n",
       "      <td>60.973565</td>\n",
       "      <td>0</td>\n",
       "      <td>1</td>\n",
       "      <td>0</td>\n",
       "    </tr>\n",
       "    <tr>\n",
       "      <th>4</th>\n",
       "      <td>485.552926</td>\n",
       "      <td>2</td>\n",
       "      <td>True</td>\n",
       "      <td>10</td>\n",
       "      <td>98</td>\n",
       "      <td>1</td>\n",
       "      <td>0.544738</td>\n",
       "      <td>0.318693</td>\n",
       "      <td>29.272733</td>\n",
       "      <td>56.811677</td>\n",
       "      <td>0</td>\n",
       "      <td>1</td>\n",
       "      <td>0</td>\n",
       "    </tr>\n",
       "  </tbody>\n",
       "</table>\n",
       "</div>"
      ],
      "text/plain": [
       "        Price  Person Capacity  Superhost  Cleanliness Rating  \\\n",
       "0  194.033698                2      False                  10   \n",
       "1  344.245776                4      False                   8   \n",
       "2  264.101422                2      False                   9   \n",
       "3  433.529398                4      False                   9   \n",
       "4  485.552926                2       True                  10   \n",
       "\n",
       "   Guest Satisfaction  Bedrooms  City Center (km)  Metro Distance (km)  \\\n",
       "0                  93         1          5.022964             2.539380   \n",
       "1                  85         1          0.488389             0.239404   \n",
       "2                  87         1          5.748312             3.651621   \n",
       "3                  90         2          0.384862             0.439876   \n",
       "4                  98         1          0.544738             0.318693   \n",
       "\n",
       "   Normalised Attraction Index  Normalised Restraunt Index  Day_Weekend  \\\n",
       "0                     4.166708                    6.846473            0   \n",
       "1                    33.421209                   58.342928            0   \n",
       "2                     3.985908                    6.646700            0   \n",
       "3                    26.119108                   60.973565            0   \n",
       "4                    29.272733                   56.811677            0   \n",
       "\n",
       "   Room Type_Private room  Room Type_Shared room  \n",
       "0                       1                      0  \n",
       "1                       1                      0  \n",
       "2                       1                      0  \n",
       "3                       1                      0  \n",
       "4                       1                      0  "
      ]
     },
     "execution_count": 9,
     "metadata": {},
     "output_type": "execute_result"
    }
   ],
   "source": [
    "#Convert to dummy data  \n",
    "df = pd.get_dummies(df, drop_first=True)\n",
    "df.head()"
   ]
  },
  {
   "cell_type": "code",
   "execution_count": 10,
   "metadata": {},
   "outputs": [],
   "source": [
    "# Removed a price data which is above $5000\n",
    "df = df[df[\"Price\"]<5000]"
   ]
  },
  {
   "cell_type": "code",
   "execution_count": 20,
   "metadata": {},
   "outputs": [
    {
     "name": "stdout",
     "output_type": "stream",
     "text": [
      "<class 'pandas.core.frame.DataFrame'>\n",
      "Int64Index: 41700 entries, 0 to 41713\n",
      "Data columns (total 13 columns):\n",
      " #   Column                       Non-Null Count  Dtype  \n",
      "---  ------                       --------------  -----  \n",
      " 0   Price                        41700 non-null  float64\n",
      " 1   Person Capacity              41700 non-null  int64  \n",
      " 2   Superhost                    41700 non-null  bool   \n",
      " 3   Cleanliness Rating           41700 non-null  int64  \n",
      " 4   Guest Satisfaction           41700 non-null  int64  \n",
      " 5   Bedrooms                     41700 non-null  int64  \n",
      " 6   City Center (km)             41700 non-null  float64\n",
      " 7   Metro Distance (km)          41700 non-null  float64\n",
      " 8   Normalised Attraction Index  41700 non-null  float64\n",
      " 9   Normalised Restraunt Index   41700 non-null  float64\n",
      " 10  Day_Weekend                  41700 non-null  uint8  \n",
      " 11  Room Type_Private room       41700 non-null  uint8  \n",
      " 12  Room Type_Shared room        41700 non-null  uint8  \n",
      "dtypes: bool(1), float64(5), int64(4), uint8(3)\n",
      "memory usage: 3.3 MB\n"
     ]
    }
   ],
   "source": [
    "df.info()"
   ]
  },
  {
   "cell_type": "code",
   "execution_count": 11,
   "metadata": {},
   "outputs": [],
   "source": [
    "#Independent variables\n",
    "x = df[['Day_Weekend',\n",
    "        'Room Type_Private room', \n",
    "        'Room Type_Shared room', \n",
    "        'Person Capacity', \n",
    "        'Cleanliness Rating',\n",
    "        'Guest Satisfaction',\n",
    "        'Bedrooms',\n",
    "        'City Center (km)',\n",
    "        'Metro Distance (km)',\n",
    "        'Normalised Attraction Index',\n",
    "        'Normalised Restraunt Index']]"
   ]
  },
  {
   "cell_type": "code",
   "execution_count": 12,
   "metadata": {},
   "outputs": [],
   "source": [
    "#Dependent variable\n",
    "y = df['Price']"
   ]
  },
  {
   "cell_type": "code",
   "execution_count": 13,
   "metadata": {},
   "outputs": [],
   "source": [
    "#Devide into test data and train data.\n",
    "from sklearn.model_selection import train_test_split\n",
    "x_train, x_test, y_train, y_test = train_test_split(x, y, test_size = 0.2, random_state = 0)"
   ]
  },
  {
   "cell_type": "code",
   "execution_count": 14,
   "metadata": {},
   "outputs": [
    {
     "data": {
      "text/plain": [
       "LinearRegression()"
      ]
     },
     "execution_count": 14,
     "metadata": {},
     "output_type": "execute_result"
    }
   ],
   "source": [
    "#Making a liner model\n",
    "from sklearn.linear_model import LinearRegression\n",
    "model = LinearRegression()\n",
    "model.fit(x_train,y_train)"
   ]
  },
  {
   "cell_type": "code",
   "execution_count": 15,
   "metadata": {},
   "outputs": [
    {
     "data": {
      "text/plain": [
       "array([211.99865357, 295.34040416, 324.57000949, ..., 207.97472546,\n",
       "       380.9499467 , 401.23682691])"
      ]
     },
     "execution_count": 15,
     "metadata": {},
     "output_type": "execute_result"
    }
   ],
   "source": [
    "predictions = model.predict(x_test)\n",
    "predictions"
   ]
  },
  {
   "cell_type": "code",
   "execution_count": 16,
   "metadata": {},
   "outputs": [
    {
     "data": {
      "text/plain": [
       "<AxesSubplot:xlabel='Price'>"
      ]
     },
     "execution_count": 16,
     "metadata": {},
     "output_type": "execute_result"
    },
    {
     "data": {
      "image/png": "[encoded data removed]",
      "text/plain": [
       "<Figure size 720x576 with 1 Axes>"
      ]
     },
     "metadata": {},
     "output_type": "display_data"
    }
   ],
   "source": [
    "plt.figure(figsize=(10,8))\n",
    "sns.regplot(y_test,predictions)"
   ]
  },
  {
   "cell_type": "code",
   "execution_count": 17,
   "metadata": {},
   "outputs": [
    {
     "data": {
      "text/html": [
       "<div>\n",
       "<style scoped>\n",
       "    .dataframe tbody tr th:only-of-type {\n",
       "        vertical-align: middle;\n",
       "    }\n",
       "\n",
       "    .dataframe tbody tr th {\n",
       "        vertical-align: top;\n",
       "    }\n",
       "\n",
       "    .dataframe thead th {\n",
       "        text-align: right;\n",
       "    }\n",
       "</style>\n",
       "<table border=\"1\" class=\"dataframe\">\n",
       "  <thead>\n",
       "    <tr style=\"text-align: right;\">\n",
       "      <th></th>\n",
       "      <th>Coefficient</th>\n",
       "    </tr>\n",
       "  </thead>\n",
       "  <tbody>\n",
       "    <tr>\n",
       "      <th>Day_Weekend</th>\n",
       "      <td>9.222793</td>\n",
       "    </tr>\n",
       "    <tr>\n",
       "      <th>Room Type_Private room</th>\n",
       "      <td>-61.454721</td>\n",
       "    </tr>\n",
       "    <tr>\n",
       "      <th>Room Type_Shared room</th>\n",
       "      <td>-137.774485</td>\n",
       "    </tr>\n",
       "    <tr>\n",
       "      <th>Person Capacity</th>\n",
       "      <td>12.022495</td>\n",
       "    </tr>\n",
       "    <tr>\n",
       "      <th>Cleanliness Rating</th>\n",
       "      <td>4.734188</td>\n",
       "    </tr>\n",
       "    <tr>\n",
       "      <th>Guest Satisfaction</th>\n",
       "      <td>-0.105879</td>\n",
       "    </tr>\n",
       "    <tr>\n",
       "      <th>Bedrooms</th>\n",
       "      <td>78.033674</td>\n",
       "    </tr>\n",
       "    <tr>\n",
       "      <th>City Center (km)</th>\n",
       "      <td>11.042017</td>\n",
       "    </tr>\n",
       "    <tr>\n",
       "      <th>Metro Distance (km)</th>\n",
       "      <td>-1.403721</td>\n",
       "    </tr>\n",
       "    <tr>\n",
       "      <th>Normalised Attraction Index</th>\n",
       "      <td>8.562638</td>\n",
       "    </tr>\n",
       "    <tr>\n",
       "      <th>Normalised Restraunt Index</th>\n",
       "      <td>1.198083</td>\n",
       "    </tr>\n",
       "  </tbody>\n",
       "</table>\n",
       "</div>"
      ],
      "text/plain": [
       "                             Coefficient\n",
       "Day_Weekend                     9.222793\n",
       "Room Type_Private room        -61.454721\n",
       "Room Type_Shared room        -137.774485\n",
       "Person Capacity                12.022495\n",
       "Cleanliness Rating              4.734188\n",
       "Guest Satisfaction             -0.105879\n",
       "Bedrooms                       78.033674\n",
       "City Center (km)               11.042017\n",
       "Metro Distance (km)            -1.403721\n",
       "Normalised Attraction Index     8.562638\n",
       "Normalised Restraunt Index      1.198083"
      ]
     },
     "execution_count": 17,
     "metadata": {},
     "output_type": "execute_result"
    }
   ],
   "source": [
    "coeff_parameter = pd.DataFrame(model.coef_,x.columns,columns=['Coefficient'])\n",
    "coeff_parameter"
   ]
  },
  {
   "cell_type": "code",
   "execution_count": 18,
   "metadata": {},
   "outputs": [
    {
     "name": "stdout",
     "output_type": "stream",
     "text": [
      "-51.46095634918504\n"
     ]
    }
   ],
   "source": [
    "# print the intercept\n",
    "print(model.intercept_)"
   ]
  },
  {
   "cell_type": "code",
   "execution_count": 19,
   "metadata": {},
   "outputs": [
    {
     "name": "stdout",
     "output_type": "stream",
     "text": [
      "                            OLS Regression Results                            \n",
      "==============================================================================\n",
      "Dep. Variable:                  Price   R-squared:                       0.273\n",
      "Model:                            OLS   Adj. R-squared:                  0.272\n",
      "Method:                 Least Squares   F-statistic:                     1137.\n",
      "Date:                Thu, 13 Apr 2023   Prob (F-statistic):               0.00\n",
      "Time:                        10:58:04   Log-Likelihood:            -2.1945e+05\n",
      "No. Observations:               33360   AIC:                         4.389e+05\n",
      "Df Residuals:                   33348   BIC:                         4.390e+05\n",
      "Df Model:                          11                                         \n",
      "Covariance Type:            nonrobust                                         \n",
      "===============================================================================================\n",
      "                                  coef    std err          t      P>|t|      [0.025      0.975]\n",
      "-----------------------------------------------------------------------------------------------\n",
      "const                         -51.4610     12.568     -4.095      0.000     -76.095     -26.827\n",
      "Day_Weekend                     9.2228      1.910      4.828      0.000       5.478      12.967\n",
      "Room Type_Private room        -61.4547      2.394    -25.670      0.000     -66.147     -56.762\n",
      "Room Type_Shared room        -137.7745     11.198    -12.304      0.000    -159.722    -115.827\n",
      "Person Capacity                12.0225      1.014     11.859      0.000      10.036      14.009\n",
      "Cleanliness Rating              4.7342      1.497      3.163      0.002       1.801       7.668\n",
      "Guest Satisfaction             -0.1059      0.163     -0.648      0.517      -0.426       0.215\n",
      "Bedrooms                       78.0337      1.841     42.384      0.000      74.425      81.642\n",
      "City Center (km)               11.0420      0.572     19.299      0.000       9.921      12.163\n",
      "Metro Distance (km)            -1.4037      1.525     -0.921      0.357      -4.392       1.585\n",
      "Normalised Attraction Index     8.5626      0.162     52.989      0.000       8.246       8.879\n",
      "Normalised Restraunt Index      1.1981      0.075     16.069      0.000       1.052       1.344\n",
      "==============================================================================\n",
      "Omnibus:                    35784.027   Durbin-Watson:                   1.987\n",
      "Prob(Omnibus):                  0.000   Jarque-Bera (JB):          5546256.964\n",
      "Skew:                           5.187   Prob(JB):                         0.00\n",
      "Kurtosis:                      65.310   Cond. No.                     1.30e+03\n",
      "==============================================================================\n",
      "\n",
      "Notes:\n",
      "[1] Standard Errors assume that the covariance matrix of the errors is correctly specified.\n",
      "[2] The condition number is large, 1.3e+03. This might indicate that there are\n",
      "strong multicollinearity or other numerical problems.\n"
     ]
    }
   ],
   "source": [
    "import statsmodels.api as sm\n",
    "x_train_Sm= sm.add_constant(x_train)\n",
    "#X_train_Sm= sm.add_constant(X_train)\n",
    "ls=sm.OLS(y_train,x_train_Sm).fit()\n",
    "print(ls.summary())"
   ]
  },
  {
   "cell_type": "code",
   "execution_count": null,
   "metadata": {},
   "outputs": [],
   "source": []
  }
 ],
 "metadata": {
  "kernelspec": {
   "display_name": "Python 3",
   "language": "python",
   "name": "python3"
  },
  "language_info": {
   "codemirror_mode": {
    "name": "ipython",
    "version": 3
   },
   "file_extension": ".py",
   "mimetype": "text/x-python",
   "name": "python",
   "nbconvert_exporter": "python",
   "pygments_lexer": "ipython3",
   "version": "3.8.12"
  }
 },
 "nbformat": 4,
 "nbformat_minor": 4
}
